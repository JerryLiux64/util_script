{
 "cells": [
  {
   "cell_type": "code",
   "execution_count": 30,
   "metadata": {},
   "outputs": [
    {
     "name": "stdout",
     "output_type": "stream",
     "text": [
      "Release video resource\n",
      "Finish concatting videos.\n"
     ]
    }
   ],
   "source": [
    "# H264 encoding is not supported because it falls under GPL license. This code would fail if you do pip install opencv-python.\n",
    "# The work around is to use the opencv docker image: https://hub.docker.com/r/jjanzic/docker-python3-opencv\n",
    "# or build OpenCV yourself and link it with system FFmpeg.\n",
    "import os\n",
    "import cv2\n",
    "# from matplotlib.pyplot import imshow, show, axis, title, subplots\n",
    "from IPython.display import clear_output\n",
    "\n",
    "vid_1 = \"out.mp4\"\n",
    "vid_2 = \"out-tlt.mp4\"\n",
    "vid_out = \"concat_out.mp4\"\n",
    "out_size = (1920, 1080)\n",
    "assert os.path.isfile(vid_1) and os.path.isfile(vid_2), \"Videos not found\"\n",
    "\n",
    "vid_left = cv2.VideoCapture(vid_1)\n",
    "vid_right = cv2.VideoCapture(vid_2)\n",
    "\n",
    "out = cv2.VideoWriter(vid_out, cv2.VideoWriter_fourcc(*'AVC1'), 30, (out_size[0]*2, out_size[1]))\n",
    "\n",
    "try:\n",
    "    while(vid_left.isOpened and vid_right.isOpened):\n",
    "        ret_left, frame_left = vid_left.read()\n",
    "        ret_right, frame_right = vid_right.read()\n",
    "        if not ret_left or not ret_right:\n",
    "            vid_left.release()\n",
    "            vid_right.release()\n",
    "            print(\"Release video resource\")\n",
    "            break\n",
    "        \n",
    "#         frame_left = cv2.cvtColor(frame_left, cv2.COLOR_BGR2RGB)\n",
    "#         frame_right = cv2.cvtColor(frame_right, cv2.COLOR_BGR2RGB)\n",
    "        frame_left = cv2.resize(frame_left, out_size)\n",
    "        frame_right = cv2.resize(frame_right, out_size)\n",
    "        frame_cat = cv2.hconcat([frame_left, frame_right])\n",
    "        out.write(frame_cat)\n",
    "        \n",
    "########  Print each concatted frame   ######## \n",
    "#         axis('off')\n",
    "#         title(\"DP Out \")\n",
    "#         imshow(frame_cat)\n",
    "#         show()\n",
    "#         clear_output(wait=True)\n",
    "#         \n",
    "########   Print each frame of the input  #########\n",
    "#         f, axarr = subplots(2, sharex=True)\n",
    "#         axarr[0].imshow(frame_cat, interpolation='nearest', aspect = 'auto')\n",
    "#         axarr[1].imshow(frame_right, interpolation='nearest', aspect = 'auto')\n",
    "#         imshow(frame_cat)\n",
    "#         axis('off')\n",
    "#         title(\"DP Out \")\n",
    "#         show()\n",
    "#         clear_output(wait=True)\n",
    "        \n",
    "    \n",
    "    vid_left.release()\n",
    "    vid_right.release()\n",
    "    out.release()\n",
    "    print(\"Finish concatting videos.\")\n",
    "    \n",
    "except KeyboardInterrupt:\n",
    "    vid_left.release()\n",
    "    vid_right.release()\n",
    "    print(\"KeyboardInterrupt. Release video resource.\")"
   ]
  },
  {
   "cell_type": "code",
   "execution_count": 31,
   "metadata": {},
   "outputs": [
    {
     "data": {
      "application/vnd.jupyter.widget-view+json": {
       "model_id": "465534d9a661425fa43d2552c38f209d",
       "version_major": 2,
       "version_minor": 0
      },
      "text/plain": [
       "Video(value=b'\\x00\\x00\\x00 ftypisom\\x00\\x00\\x02\\x00isomiso2avc1mp41\\x00\\x00\\x00\\x08free\\x029\\xdd\\x8amdat\\x00\\x…"
      ]
     },
     "metadata": {},
     "output_type": "display_data"
    }
   ],
   "source": [
    "from ipywidgets import Video\n",
    "Video.from_file(\"concat_out.mp4\")"
   ]
  },
  {
   "cell_type": "code",
   "execution_count": null,
   "metadata": {},
   "outputs": [],
   "source": []
  }
 ],
 "metadata": {
  "kernelspec": {
   "display_name": "Python 3",
   "language": "python",
   "name": "python3"
  },
  "language_info": {
   "codemirror_mode": {
    "name": "ipython",
    "version": 3
   },
   "file_extension": ".py",
   "mimetype": "text/x-python",
   "name": "python",
   "nbconvert_exporter": "python",
   "pygments_lexer": "ipython3",
   "version": "3.7.4"
  }
 },
 "nbformat": 4,
 "nbformat_minor": 2
}
