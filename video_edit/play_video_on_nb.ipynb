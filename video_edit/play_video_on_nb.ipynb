{
 "cells": [
  {
   "cell_type": "code",
   "execution_count": null,
   "metadata": {},
   "outputs": [],
   "source": [
    "!pip install --upgrade pip\n",
    "!pip install ipywebrtc "
   ]
  },
  {
   "cell_type": "code",
   "execution_count": null,
   "metadata": {},
   "outputs": [],
   "source": [
    "from IPython.display import HTML\n",
    "\n",
    "HTML(\"\"\"\n",
    "    <video alt=\"test\" controls>\n",
    "        <source src=\"out.mp4\" type=\"video/mp4\">\n",
    "    </video>\n",
    "\"\"\")"
   ]
  },
  {
   "cell_type": "code",
   "execution_count": null,
   "metadata": {},
   "outputs": [],
   "source": [
    "from IPython.display import Video\n",
    "Video(\"out.mp4\")"
   ]
  },
  {
   "cell_type": "code",
   "execution_count": null,
   "metadata": {},
   "outputs": [],
   "source": [
    "from ipywidgets import Video\n",
    "Video.from_file(\"out.mp4\")"
   ]
  },
  {
   "cell_type": "code",
   "execution_count": null,
   "metadata": {},
   "outputs": [],
   "source": [
    "from ipywidgets import Video\n",
    "v = Video.from_file(\"out.mp4\")\n",
    "type(v)\n",
    "v"
   ]
  },
  {
   "cell_type": "code",
   "execution_count": null,
   "metadata": {},
   "outputs": [],
   "source": [
    "from ipywebrtc import VideoStream\n",
    "\n",
    "video = VideoStream.from_url(\"out.mp4\")\n",
    "\n",
    "import ipywidgets as widgets\n",
    "\n",
    "play_button = widgets.ToggleButton(description=\"Play\")\n",
    "widgets.jslink((play_button, \"value\"), (video, \"playing\"))\n",
    "widgets.VBox(children=[video, play_button])"
   ]
  },
  {
   "cell_type": "code",
   "execution_count": null,
   "metadata": {},
   "outputs": [],
   "source": [
    "import cv2\n",
    "from matplotlib.pyplot import imshow, show, axis, title, subplots\n",
    "from IPython.display import clear_output\n",
    "\n",
    "vid_orig = cv2.VideoCapture(\"out.mp4\")\n",
    "vid = cv2.VideoCapture(\"out.mp4\")\n",
    "try:\n",
    "    while(True):\n",
    "        ret_orig, frame_orig = vid_orig.read()\n",
    "        ret, frame = vid.read()\n",
    "        if not ret or not ret_orig:\n",
    "            vid_orig.release()\n",
    "            vid.release()\n",
    "            print(\"Release video resource\")\n",
    "            break\n",
    "        \n",
    "        frame_orig = cv2.cvtColor(frame_orig, cv2.COLOR_BGR2RGB)\n",
    "        frame = cv2.cvtColor(frame, cv2.COLOR_BGR2RGB)\n",
    "#         cv2.resize(frame, (1920, 1080))\n",
    "        f, axarr = subplots(2, sharex=True)\n",
    "       \n",
    "        axarr[0].imshow(frame_orig, interpolation='nearest', aspect = 'auto')\n",
    "        axarr[1].imshow(frame, interpolation='nearest', aspect = 'auto')\n",
    "        axis('off')\n",
    "        title(\"DP Out \")\n",
    "        show()\n",
    "        clear_output(wait=True)\n",
    "except KeyboardInterrupt:\n",
    "    vid_orig.release()\n",
    "    vid.release()\n",
    "    print(\"Release video resource\")"
   ]
  },
  {
   "cell_type": "code",
   "execution_count": 1,
   "metadata": {},
   "outputs": [
    {
     "data": {
      "application/vnd.jupyter.widget-view+json": {
       "model_id": "f5c3a67302624b7393abb4e1abec314f",
       "version_major": 2,
       "version_minor": 0
      },
      "text/plain": [
       "Video(value=b'\\x00\\x00\\x00\\x1cftypisom\\x00\\x00\\x02\\x00isomiso2mp41\\x00\\x00\\x00\\x08free\\x06\\x7fg\\xa1mdat\\x00\\x0…"
      ]
     },
     "metadata": {},
     "output_type": "display_data"
    }
   ],
   "source": [
    "from ipywidgets import Video\n",
    "Video.from_file(\"concat_out.mp4\")"
   ]
  },
  {
   "cell_type": "code",
   "execution_count": 2,
   "metadata": {},
   "outputs": [
    {
     "name": "stdout",
     "output_type": "stream",
     "text": [
      "000000.png\r\n",
      "Dockerfile\r\n",
      "README.md\r\n",
      "Thumbs.db\r\n",
      "car-20.mp4\r\n",
      "cheat_car.mp4\r\n",
      "concat_out.mp4\r\n",
      "concat_video.ipynb\r\n",
      "config_infer_primary.txt\r\n",
      "configs\r\n",
      "dp.gpu.2019.10.17-23.16.25.log\r\n",
      "dp.gpu.2019.10.24-18.23.00.log\r\n",
      "export\r\n",
      "export-3\r\n",
      "kitti_crop.py\r\n",
      "launch\r\n",
      "only-pgie.mp4\r\n",
      "out-tlt.mp4\r\n",
      "out.jpg\r\n",
      "out.mp4\r\n",
      "play_video_on_nb.ipynb\r\n",
      "requirements.txt\r\n",
      "run.sh\r\n",
      "sample_1080p_h264.mp4\r\n",
      "source4_1080p_dec_infer-resnet_tracker_sgie_tiled_display_int8.txt\r\n",
      "source4_1080p_dec_infer-resnet_tracker_sgie_tiled_display_int8_80-h265-muxbatch80-pgiebatch80-tlt.txt\r\n",
      "source4_1080p_dec_infer-resnet_tracker_sgie_tiled_display_int8_80-h265-muxbatch80-pgiebatch80-tlt_rtsp.txt\r\n",
      "source4_1080p_dec_infer-tlt_demo.txt\r\n",
      "start.sh\r\n",
      "streamscl\r\n"
     ]
    }
   ],
   "source": [
    "!ls"
   ]
  },
  {
   "cell_type": "code",
   "execution_count": 3,
   "metadata": {},
   "outputs": [
    {
     "name": "stdout",
     "output_type": "stream",
     "text": [
      "out.mp4: video/quicktime; charset=binary\r\n"
     ]
    }
   ],
   "source": [
    "!file -i out.mp4"
   ]
  },
  {
   "cell_type": "code",
   "execution_count": 4,
   "metadata": {},
   "outputs": [
    {
     "name": "stdout",
     "output_type": "stream",
     "text": [
      "concat_out.mp4: video/mp4; charset=binary\r\n"
     ]
    }
   ],
   "source": [
    "!file -i concat_out.mp4"
   ]
  },
  {
   "cell_type": "code",
   "execution_count": null,
   "metadata": {},
   "outputs": [],
   "source": []
  }
 ],
 "metadata": {
  "kernelspec": {
   "display_name": "Python 3",
   "language": "python",
   "name": "python3"
  },
  "language_info": {
   "codemirror_mode": {
    "name": "ipython",
    "version": 3
   },
   "file_extension": ".py",
   "mimetype": "text/x-python",
   "name": "python",
   "nbconvert_exporter": "python",
   "pygments_lexer": "ipython3",
   "version": "3.7.4"
  }
 },
 "nbformat": 4,
 "nbformat_minor": 2
}
